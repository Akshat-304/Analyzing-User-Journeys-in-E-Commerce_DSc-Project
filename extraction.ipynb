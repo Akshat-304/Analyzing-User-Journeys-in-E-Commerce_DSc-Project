{
 "cells": [
  {
   "cell_type": "code",
   "execution_count": 1,
   "metadata": {},
   "outputs": [],
   "source": [
    "import pandas as pd\n",
    "import numpy as np"
   ]
  },
  {
   "cell_type": "code",
   "execution_count": 2,
   "metadata": {},
   "outputs": [],
   "source": [
    "events = pd.read_csv(\"prepared_dataset\\\\events.csv\")\n",
    "properties = pd.read_csv(\"prepared_dataset\\\\properties.csv\")\n",
    "parents = pd.read_csv(\"prepared_dataset\\\\parents.csv\")\n",
    "\n",
    "events['timestamp'] = pd.to_datetime(events['timestamp'])\n",
    "properties['timestamp'] = pd.to_datetime(properties['timestamp'])"
   ]
  },
  {
   "cell_type": "markdown",
   "metadata": {},
   "source": [
    "<center>Feature Extraction and Engineering</center>"
   ]
  },
  {
   "cell_type": "code",
   "execution_count": 3,
   "metadata": {},
   "outputs": [],
   "source": [
    "def check_funnel(row, df: pd.DataFrame, time='7 days'):\n",
    "    for _, new_row in df.iterrows():\n",
    "        if new_row['event'] == \"view\" and new_row['timestamp'] - row['timestamp'] > pd.Timedelta('1 days'):\n",
    "            return False\n",
    "        if new_row['timestamp'] - row['timestamp'] < pd.Timedelta('0 days'):\n",
    "            continue\n",
    "        if new_row['timestamp'] - row['timestamp'] > pd.Timedelta(time):\n",
    "            continue\n",
    "        if new_row['event'] == \"transaction\":\n",
    "            return True\n",
    "    return False\n",
    "\n",
    "data = []\n",
    "targets = []\n",
    "\n",
    "group = events.groupby(['visitorid', 'itemid'])\n",
    "for (visitorid, itemid), df in group:\n",
    "    for idx, row in df.iterrows():\n",
    "        if row['event'] == \"view\":\n",
    "            data.append((visitorid, itemid, row['timestamp']))\n",
    "            if check_funnel(row, df):\n",
    "                targets.append(1)\n",
    "            else: \n",
    "                targets.append(0)"
   ]
  },
  {
   "cell_type": "code",
   "execution_count": 4,
   "metadata": {},
   "outputs": [
    {
     "data": {
      "text/plain": [
       "(345781, 438400, Timestamp('2015-05-03 03:09:28.107000'))"
      ]
     },
     "execution_count": 4,
     "metadata": {},
     "output_type": "execute_result"
    }
   ],
   "source": [
    "d_sorted, t_sorted = zip(*sorted(zip(data, targets), key=lambda x: x[0][2]))\n",
    "\n",
    "d_sorted = list(d_sorted)\n",
    "t_sorted = list(t_sorted)\n",
    "\n",
    "d_sorted[t_sorted.index(1)]"
   ]
  },
  {
   "cell_type": "code",
   "execution_count": 5,
   "metadata": {},
   "outputs": [
    {
     "name": "stdout",
     "output_type": "stream",
     "text": [
      "2664312\n",
      "2585\n",
      "[      0       1       2 ... 2664309 2664310 2664311] [    143     367     368 ... 2663858 2664094 2664146] 0.9870762132963407\n"
     ]
    }
   ],
   "source": [
    "def sample_random(data, targets, n_samples=1000):\n",
    "    target_np = np.array(targets)\n",
    "    count_0 = np.sum(target_np == 0)\n",
    "\n",
    "    total = len(targets)\n",
    "    proportion_0 = count_0 / total\n",
    "\n",
    "    print(total)\n",
    "\n",
    "    n_0_samples = int(n_samples * proportion_0)\n",
    "    n_1_samples = n_samples - n_0_samples\n",
    "\n",
    "    # if (n_1_samples < 0.2 * n_samples):\n",
    "    #     n_1_samples = min(total - count_0, int(0.2 * n_samples))\n",
    "    #     n_0_samples = n_samples - n_1_samples\n",
    "\n",
    "    print(n_1_samples)\n",
    "\n",
    "    idx_0 = np.where(target_np == 0)[0]\n",
    "    idx_1 = np.where(target_np == 1)[0]\n",
    "\n",
    "    print(idx_0, idx_1, proportion_0)\n",
    "\n",
    "    sampled_0_idx = np.random.choice(idx_0, n_0_samples, replace=False)\n",
    "    sampled_1_idx = np.random.choice(idx_1, n_1_samples, replace=False)\n",
    "\n",
    "    sampled_idx = np.concatenate([sampled_0_idx, sampled_1_idx])\n",
    "    np.random.shuffle(sampled_idx)\n",
    "\n",
    "    sample_f = []\n",
    "    sample_t = []\n",
    "\n",
    "    for idx in sampled_idx:\n",
    "        sample_f.append(data[idx])\n",
    "        sample_t.append(targets[idx])\n",
    "\n",
    "    return sample_f, sample_t\n",
    "\n",
    "d_subset, t_subset = sample_random(d_sorted, t_sorted, 200000)"
   ]
  },
  {
   "cell_type": "code",
   "execution_count": 6,
   "metadata": {},
   "outputs": [],
   "source": [
    "def add_properties(data):\n",
    "    new_features = data.copy()\n",
    "    for idx, feature in enumerate(new_features):\n",
    "        df: pd.DataFrame = properties[(properties['itemid'] == feature[1]) & (properties['timestamp'] < feature[2])].copy()\n",
    "        df.sort_values('timestamp', inplace=True)\n",
    "        props = {}\n",
    "\n",
    "        for _, row in df.iterrows():\n",
    "            props[row['property']] = row['value']\n",
    "\n",
    "        new_features[idx] += (props, )\n",
    "    return new_features\n",
    "\n",
    "d_subset = add_properties(d_subset)"
   ]
  },
  {
   "cell_type": "code",
   "execution_count": 7,
   "metadata": {},
   "outputs": [
    {
     "data": {
      "text/plain": [
       "(1187986,\n",
       " 120098,\n",
       " Timestamp('2015-08-22 18:41:14.018000'),\n",
       " {'790': 'n14160.000',\n",
       "  '764': '1285872',\n",
       "  '917': '1170932',\n",
       "  '6': '985131',\n",
       "  '888': '400845 1097825 n1440.000 628176 n720.000 424566',\n",
       "  '112': '679677',\n",
       "  '776': '972043',\n",
       "  '283': '985131 343546 400845 343546 274150 268271 985131 400845 909292 588497 402932 709607 827951 424566 639502 117069 985131 703408 77688 914749 821952 487363 745504 1056884 436067 1033895 436067 1033895 312815 611917 157929',\n",
       "  'available': '1',\n",
       "  '364': '275799',\n",
       "  '441': 'n1440.000 628176 n720.000 424566',\n",
       "  '243': '985131',\n",
       "  '159': '519769',\n",
       "  '689': '337402',\n",
       "  '713': '436067 1033895',\n",
       "  '434': '769062',\n",
       "  '46': '769062',\n",
       "  'categoryid': '427',\n",
       "  '575': '1170932',\n",
       "  '202': '400845',\n",
       "  '960': '769062',\n",
       "  '19': '1297729 n0.000 309206',\n",
       "  '678': '343546',\n",
       "  '698': '985131',\n",
       "  '28': '150169 610517',\n",
       "  '54': '709607',\n",
       "  '227': '985131',\n",
       "  '38': '769062',\n",
       "  '810': 'n1440.000 628176 n720.000 424566',\n",
       "  '839': '343546'})"
      ]
     },
     "execution_count": 7,
     "metadata": {},
     "output_type": "execute_result"
    }
   ],
   "source": [
    "d_subset[t_subset.index(1)]"
   ]
  },
  {
   "cell_type": "code",
   "execution_count": 8,
   "metadata": {},
   "outputs": [],
   "source": [
    "def extract_features(data, target):\n",
    "    data = {\n",
    "        'visitorid': [],\n",
    "        'itemid': [],\n",
    "        'dayofweek': [],\n",
    "        'hour': [],\n",
    "    }\n",
    "\n",
    "    _properties = {}\n",
    "\n",
    "    for f in d_subset:\n",
    "        data['visitorid'].append(f[0])\n",
    "        data['itemid'].append(f[1])\n",
    "        data['dayofweek'].append(f[2].dayofweek)\n",
    "        data['hour'].append(f[2].hour)\n",
    "\n",
    "        for property in _properties:\n",
    "            if property in f[3]:\n",
    "                _properties[property].append(f[3][property])\n",
    "            else:\n",
    "                _properties[property].append(np.nan)\n",
    "\n",
    "        for property, value in f[3].items():\n",
    "            if property not in properties:\n",
    "                _properties[property] = [np.nan for _ in range(len(data['visitorid']) - 1)] + [value]\n",
    "\n",
    "    data = data | _properties\n",
    "    data['target'] = target\n",
    "    data_df = pd.DataFrame(data)\n",
    "    \n",
    "    data_df = data_df.sample(frac=1, random_state=42).reset_index(drop=True)\n",
    "    return data_df\n",
    "\n",
    "df = extract_features(d_subset, t_subset)"
   ]
  },
  {
   "cell_type": "code",
   "execution_count": 9,
   "metadata": {},
   "outputs": [],
   "source": [
    "df.to_csv(\"features_2.csv\", index=False)"
   ]
  }
 ],
 "metadata": {
  "kernelspec": {
   "display_name": "Python 3",
   "language": "python",
   "name": "python3"
  },
  "language_info": {
   "codemirror_mode": {
    "name": "ipython",
    "version": 3
   },
   "file_extension": ".py",
   "mimetype": "text/x-python",
   "name": "python",
   "nbconvert_exporter": "python",
   "pygments_lexer": "ipython3",
   "version": "3.12.6"
  }
 },
 "nbformat": 4,
 "nbformat_minor": 2
}
